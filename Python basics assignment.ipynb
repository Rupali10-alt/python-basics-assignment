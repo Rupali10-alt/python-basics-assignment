{
  "nbformat": 4,
  "nbformat_minor": 0,
  "metadata": {
    "colab": {
      "provenance": []
    },
    "kernelspec": {
      "name": "python3",
      "display_name": "Python 3"
    },
    "language_info": {
      "name": "python"
    }
  },
  "cells": [
    {
      "cell_type": "code",
      "execution_count": null,
      "metadata": {
        "id": "UKz73EJJczmK"
      },
      "outputs": [],
      "source": []
    },
    {
      "cell_type": "markdown",
      "source": [
        "1.Explain key features of python that make it a popular choice for programming\n",
        "\n",
        "•\tReadability and Simplicity: Python's syntax is clear and easy to read, which makes it accessible for beginners and allows experienced programmers to write code more quickly.\n",
        "•\tVersatility: Python can be used for various applications, including web development, data analysis, artificial intelligence, scientific computing, automation, and more.\n",
        "•\tRich Ecosystem of Libraries and Frameworks: Python has a vast collection of libraries and frameworks (like NumPy, Pandas, Django, Flask, and TensorFlow) that facilitate development and extend functionality.\n",
        "•\tCommunity Support: A large and active community provides extensive documentation, tutorials, and forums, making it easier to find help and resources.\n",
        "•\tCross-Platform Compatibility: Python runs on various operating systems, including Windows, macOS, and Linux, allowing for flexibility in development and deployment.\n",
        "•\tStrong Integration Capabilities: Python can easily integrate with other languages and technologies, allowing developers to use it alongside C, C++, and Java, among others.\n",
        "•\tInterpreted Language: Being an interpreted language, Python allows for interactive testing and debugging, making development faster and more efficient.\n",
        "•\tDynamic Typing: Python uses dynamic typing, which enables variable types to be determined at runtime, making the code more flexible.\n",
        "•\tExtensive Use in Data Science and Machine Learning: Python has become the go-to language for data science and machine learning, largely due to its libraries and ease of use.\n"
      ],
      "metadata": {
        "id": "izItfFJ7c0Yh"
      }
    },
    {
      "cell_type": "markdown",
      "source": [
        "2.Describe the role of predefined keywords in python and provide examples of how they are used in a programme\n",
        "predefined keywords (also known as reserved words) are special identifiers that have specific meanings and purposes within the language. These keywords cannot be used as identifiers (e.g., variable names, function names) because they are reserved for defining the syntax and structure of Python code.\n",
        "1. Control Flow\n",
        "Keywords like if, elif, else, for, while, and break are used to control the flow of a program."
      ],
      "metadata": {
        "id": "z9zVWwJ1eacs"
      }
    },
    {
      "cell_type": "code",
      "source": [
        "age = 20\n",
        "\n",
        "if age >= 18:\n",
        "    print(\"You are an adult.\")\n",
        "else:\n",
        "    print(\"You are a minor.\")\n"
      ],
      "metadata": {
        "colab": {
          "base_uri": "https://localhost:8080/"
        },
        "id": "WjbCgGstg93v",
        "outputId": "0a7cee36-58ca-4674-fb90-1e2774467126"
      },
      "execution_count": 3,
      "outputs": [
        {
          "output_type": "stream",
          "name": "stdout",
          "text": [
            "You are an adult.\n"
          ]
        }
      ]
    },
    {
      "cell_type": "markdown",
      "source": [
        "2. Function Definition\n",
        "The keyword def is used to define functions."
      ],
      "metadata": {
        "id": "T9O5UtYvhjTH"
      }
    },
    {
      "cell_type": "code",
      "source": [
        "def greet(name):\n",
        "    return f\"Hello, {name}!\"\n",
        "\n",
        "print(greet(\"Alice\"))\n"
      ],
      "metadata": {
        "colab": {
          "base_uri": "https://localhost:8080/"
        },
        "id": "OfPTdadahlHv",
        "outputId": "4d989ef6-05a5-453e-f9e8-a5920e3ab551"
      },
      "execution_count": 4,
      "outputs": [
        {
          "output_type": "stream",
          "name": "stdout",
          "text": [
            "Hello, Alice!\n"
          ]
        }
      ]
    },
    {
      "cell_type": "markdown",
      "source": [
        "3. Exception Handling\n",
        "Keywords like try, except, finally, and raise are used for handling exceptions."
      ],
      "metadata": {
        "id": "7peQr9tlh0uX"
      }
    },
    {
      "cell_type": "code",
      "source": [
        "try:\n",
        "    value = int(input(\"Enter a number: \"))\n",
        "except ValueError:\n",
        "    print(\"That's not a valid number!\")\n",
        "else:\n",
        "    print(if\"You entered: {value}\")\n"
      ],
      "metadata": {
        "colab": {
          "base_uri": "https://localhost:8080/"
        },
        "id": "DCgMev5Eh2vP",
        "outputId": "e2419b41-c054-457d-ced4-8613230bbc27"
      },
      "execution_count": 7,
      "outputs": [
        {
          "output_type": "stream",
          "name": "stdout",
          "text": [
            "Enter a number: 1\n",
            "You entered: 1\n"
          ]
        }
      ]
    },
    {
      "cell_type": "markdown",
      "source": [
        "4. Class Definition\n",
        "The keyword class is used to define classes."
      ],
      "metadata": {
        "id": "oNtY3ZCjjuXi"
      }
    },
    {
      "cell_type": "code",
      "source": [
        "class Dog:\n",
        "    def bark(self):\n",
        "        return \"Woof!\"\n",
        "\n",
        "my_dog = Dog()\n",
        "print(my_dog.bark())\n"
      ],
      "metadata": {
        "colab": {
          "base_uri": "https://localhost:8080/"
        },
        "id": "IV-cDmoDjyzB",
        "outputId": "e9c4427d-7ef3-450e-c7b5-a6b7be5983f9"
      },
      "execution_count": 8,
      "outputs": [
        {
          "output_type": "stream",
          "name": "stdout",
          "text": [
            "Woof!\n"
          ]
        }
      ]
    },
    {
      "cell_type": "markdown",
      "source": [
        "5. Importing Modules\n",
        "The keywords import and from are used to include external modules or specific functions/classes from those modules."
      ],
      "metadata": {
        "id": "c_QNv1pynnyx"
      }
    },
    {
      "cell_type": "code",
      "source": [
        "import math\n",
        "\n",
        "print(math.sqrt(16))\n"
      ],
      "metadata": {
        "colab": {
          "base_uri": "https://localhost:8080/"
        },
        "id": "H0q0NwPWnowQ",
        "outputId": "abd21879-dbe6-4f06-8874-5a23bfa29eff"
      },
      "execution_count": 9,
      "outputs": [
        {
          "output_type": "stream",
          "name": "stdout",
          "text": [
            "4.0\n"
          ]
        }
      ]
    },
    {
      "cell_type": "markdown",
      "source": [
        "6. Logical Operations\n",
        "Keywords like and, or, and not are used for logical operations."
      ],
      "metadata": {
        "id": "sdJUPt4Int9Q"
      }
    },
    {
      "cell_type": "code",
      "source": [
        "x = 10\n",
        "y = 20\n",
        "\n",
        "if x < 15 and y > 15:\n",
        "    print(\"Both conditions are true.\")\n",
        "\n"
      ],
      "metadata": {
        "colab": {
          "base_uri": "https://localhost:8080/"
        },
        "id": "GmHm5ZXGnu7p",
        "outputId": "55e765a3-09af-4070-cd5a-623936760e4d"
      },
      "execution_count": 10,
      "outputs": [
        {
          "output_type": "stream",
          "name": "stdout",
          "text": [
            "Both conditions are true.\n"
          ]
        }
      ]
    },
    {
      "cell_type": "markdown",
      "source": [
        "7. Data Structure Definition\n",
        "Keywords such as in, is, and not help in checking membership and identity."
      ],
      "metadata": {
        "id": "1kUCMKHWnzbB"
      }
    },
    {
      "cell_type": "code",
      "source": [
        "fruits = [\"apple\", \"banana\", \"cherry\"]\n",
        "\n",
        "if \"banana\" in fruits:\n",
        "    print(\"Banana is in the list.\")\n"
      ],
      "metadata": {
        "colab": {
          "base_uri": "https://localhost:8080/"
        },
        "id": "or5OEy4Nnz7p",
        "outputId": "494b1810-3ed8-4aae-b8b5-dfff190eec90"
      },
      "execution_count": 11,
      "outputs": [
        {
          "output_type": "stream",
          "name": "stdout",
          "text": [
            "Banana is in the list.\n"
          ]
        }
      ]
    },
    {
      "cell_type": "markdown",
      "source": [
        "3. Compare & contrast mutable & unmutable objects in python with example\n",
        "Definition: Mutable objects are those whose value or state can be changed after they are created.\n",
        "Examples: Lists, Dictionaries, Sets\n",
        "Characteristics:\n",
        "•\tChangeable: Their contents can be modified without creating a new object.\n",
        "•\tMethods: They typically include methods that allow in-place modifications.\n",
        "•\tIdentity: The identity (memory address) remains the same even when contents change.\n"
      ],
      "metadata": {
        "id": "BunoYUuroiSA"
      }
    },
    {
      "cell_type": "code",
      "source": [
        "# Mutable Example\n",
        "my_list = [1, 2, 3]\n",
        "print(\"Original list:\", my_list)\n",
        "\n",
        "# Modifying the list\n",
        "my_list.append(4)\n",
        "print(\"Modified list:\", my_list)  # Output: [1, 2, 3, 4]\n"
      ],
      "metadata": {
        "colab": {
          "base_uri": "https://localhost:8080/"
        },
        "id": "tS9T-KEEo75P",
        "outputId": "f4fa4c8e-898a-4d32-9074-a4512be161e0"
      },
      "execution_count": 13,
      "outputs": [
        {
          "output_type": "stream",
          "name": "stdout",
          "text": [
            "Original list: [1, 2, 3]\n",
            "Modified list: [1, 2, 3, 4]\n"
          ]
        }
      ]
    },
    {
      "cell_type": "markdown",
      "source": [
        "Immutable Objects\n",
        "Definition: Immutable objects are those whose value or state cannot be changed after they are created.\n",
        "Examples: Tuples, Strings, Frozensets\n",
        "Characteristics:\n",
        "•\tUnchangeable: Any operation that modifies an immutable object results in the creation of a new object.\n",
        "•\tHashable: Can be used as keys in dictionaries and elements in sets.\n",
        "•\tEfficiency: Often more efficient in terms of memory and speed for certain operations."
      ],
      "metadata": {
        "id": "hz19mOUZpBOn"
      }
    },
    {
      "cell_type": "code",
      "source": [
        "# Immutable Example\n",
        "my_tuple = (1, 2, 3)\n",
        "print(\"Original tuple:\", my_tuple)\n",
        "\n",
        "# Attempting to modify the tuple\n",
        "try:\n",
        "    my_tuple[0] = 4  # This will raise an error\n",
        "except TypeError as e:\n",
        "    print(\"Error:\", e)  # Output: 'tuple' object does not support item assignment\n",
        "\n",
        "# Creating a new tuple instead\n",
        "new_tuple = my_tuple + (4,)\n",
        "print(\"New tuple:\", new_tuple)  # Output: (1, 2, 3, 4)\n"
      ],
      "metadata": {
        "colab": {
          "base_uri": "https://localhost:8080/"
        },
        "id": "S0HBe7WIpEHw",
        "outputId": "84d0175a-6ba1-4c01-b6e9-2333252349a1"
      },
      "execution_count": 14,
      "outputs": [
        {
          "output_type": "stream",
          "name": "stdout",
          "text": [
            "Original tuple: (1, 2, 3)\n",
            "Error: 'tuple' object does not support item assignment\n",
            "New tuple: (1, 2, 3, 4)\n"
          ]
        }
      ]
    },
    {
      "cell_type": "markdown",
      "source": [
        "summary\n",
        "Mutable: Changeable, examples include lists and dictionaries.\n",
        "Immutable: Unchangeable, examples include strings and tuples."
      ],
      "metadata": {
        "id": "Zwiqi-eVpJ0f"
      }
    },
    {
      "cell_type": "markdown",
      "source": [
        "4. Discuss different type of operators in python  & provide examples of how they are used\n",
        "\n",
        " 1.Arithmetic Operators\n",
        "These operators are used to perform mathematical operations.\n",
        "•\tAddition (+)\n",
        "•\tSubtraction (-)\n",
        "•\tMultiplication (*)\n",
        "•\tDivision (/)\n",
        "•\tFloor Division (//)\n",
        "•\tModulus (%)\n",
        "•\tExponentiation (**)\n"
      ],
      "metadata": {
        "id": "KfM78_eRpLhn"
      }
    },
    {
      "cell_type": "code",
      "source": [],
      "metadata": {
        "id": "h-tIbIkMqcEu"
      },
      "execution_count": null,
      "outputs": []
    },
    {
      "cell_type": "code",
      "source": [],
      "metadata": {
        "id": "Bk9BSwtsqfXW"
      },
      "execution_count": null,
      "outputs": []
    },
    {
      "cell_type": "code",
      "source": [],
      "metadata": {
        "id": "RSpKVzvdqgWW"
      },
      "execution_count": null,
      "outputs": []
    },
    {
      "cell_type": "markdown",
      "source": [],
      "metadata": {
        "id": "SJGfoIlMpvYP"
      }
    },
    {
      "cell_type": "code",
      "source": [
        "a=5\n",
        "b=6\n",
        "print (a+b)\n",
        "print(a-b)\n",
        "print(a*b)\n",
        "print(a/b)\n",
        "print(a//b)\n",
        "print(a%b)\n",
        "print(a**b)\n"
      ],
      "metadata": {
        "colab": {
          "base_uri": "https://localhost:8080/"
        },
        "id": "JClyRAlwp2TW",
        "outputId": "c051038e-c056-4149-c841-a41a6b13d6e8"
      },
      "execution_count": 18,
      "outputs": [
        {
          "output_type": "stream",
          "name": "stdout",
          "text": [
            "11\n",
            "-1\n",
            "30\n",
            "0.8333333333333334\n",
            "0\n",
            "5\n",
            "15625\n"
          ]
        }
      ]
    },
    {
      "cell_type": "markdown",
      "source": [
        "2. Comparison Operators\n",
        "These operators compare two values and return a Boolean result (True or False).\n",
        "•\tEqual to (==)\n",
        "•\tNot equal to (!=)\n",
        "•\tGreater than (>)\n",
        "•\tLess than (<)\n",
        "•\tGreater than or equal to (>=)\n",
        "•\tLess than or equal to (<=)\n"
      ],
      "metadata": {
        "id": "J1OpG14IqVWW"
      }
    },
    {
      "cell_type": "code",
      "source": [
        "x = 5\n",
        "y = 10\n",
        "print(x == y)  # Output: False\n",
        "print(x != y)  # Output: True\n",
        "print(x > y)   # Output: False\n",
        "print(x < y)   # Output: True\n",
        "print(x >= y)  # Output: False\n",
        "print(x <= y)"
      ],
      "metadata": {
        "colab": {
          "base_uri": "https://localhost:8080/"
        },
        "id": "jgna8lSvqjCG",
        "outputId": "f962f58a-d0fd-440c-8fd5-bb0c636b7e88"
      },
      "execution_count": 19,
      "outputs": [
        {
          "output_type": "stream",
          "name": "stdout",
          "text": [
            "False\n",
            "True\n",
            "False\n",
            "True\n",
            "False\n",
            "True\n"
          ]
        }
      ]
    },
    {
      "cell_type": "markdown",
      "source": [
        "3. Logical Operators\n",
        "These operators perform logical operations on Boolean values.These operators are used to combine conditional statements.\n",
        "•\tAND (and)\n",
        "•\tOR (or)\n",
        "•\tNOT (not)\n"
      ],
      "metadata": {
        "id": "ethM3NDSq2Kr"
      }
    },
    {
      "cell_type": "code",
      "source": [
        "a = True\n",
        "b = False\n",
        "print(a and b)  # Output: False\n",
        "print(a or b)   # Output: True\n",
        "print(not a)    # Output: False\n"
      ],
      "metadata": {
        "colab": {
          "base_uri": "https://localhost:8080/"
        },
        "id": "CmzkXE8Vq34b",
        "outputId": "5e4a3314-b7bb-41bc-97ba-e7f88ee3805e"
      },
      "execution_count": 20,
      "outputs": [
        {
          "output_type": "stream",
          "name": "stdout",
          "text": [
            "False\n",
            "True\n",
            "False\n"
          ]
        }
      ]
    },
    {
      "cell_type": "markdown",
      "source": [
        "4. Assignment Operators\n",
        "These operators are used to assign values to variables.\n",
        "•\tAssignment (=)\n",
        "•\tAddition assignment (+=)\n",
        "•\tSubtraction assignment (-=)\n",
        "•\tMultiplication assignment (*=)\n",
        "•\tDivision assignment (/=)"
      ],
      "metadata": {
        "id": "Ot6ccwVkrIWV"
      }
    },
    {
      "cell_type": "code",
      "source": [
        "num = 10\n",
        "num += 5  # Equivalent to num = num + 5\n",
        "num -= 3  # Equivalent to num = num - 3\n",
        "num *= 2  # Equivalent to num = num * 2\n",
        "num /= 4  # Equivalent to num = num / 4\n",
        "\n"
      ],
      "metadata": {
        "id": "_E8Bw6bsrK8s"
      },
      "execution_count": 23,
      "outputs": []
    },
    {
      "cell_type": "markdown",
      "source": [],
      "metadata": {
        "id": "_G51-IfSrhcp"
      }
    },
    {
      "cell_type": "markdown",
      "source": [
        "5. Bitwise Operators\n",
        "These operators perform operations on binary representations of integers.\n",
        "•\tAND (&)\n",
        "•\tOR (|)\n",
        "•\tXOR (^)\n",
        "•\tNOT (~)\n",
        "•\tLeft Shift (<<)\n",
        "•\tRight Shift (>>)\n"
      ],
      "metadata": {
        "id": "VrcI1QA1rQz9"
      }
    },
    {
      "cell_type": "code",
      "source": [
        "a = 10  # Binary: 1010\n",
        "b = 4   # Binary: 0100\n",
        "print(\"Bitwise AND:\", a & b)   # Output: 0 (Binary: 0000)\n",
        "print(\"Bitwise OR:\", a | b)    # Output: 14 (Binary: 1110)\n",
        "print(\"Bitwise XOR:\", a ^ b)   # Output: 14 (Binary: 1110)\n",
        "print(\"Bitwise NOT:\", ~a)      # Output: -11 (Two's complement)\n",
        "print(\"Left Shift:\", a << 1)   # Output: 20 (Binary: 10100)\n",
        "print(\"Right Shift:\", a >> 1)  # Output: 5 (Binary: 0101)\n"
      ],
      "metadata": {
        "colab": {
          "base_uri": "https://localhost:8080/"
        },
        "id": "R9-ycKtCrVM4",
        "outputId": "be4458e2-1067-4010-c3b2-0a04093fc2f1"
      },
      "execution_count": 25,
      "outputs": [
        {
          "output_type": "stream",
          "name": "stdout",
          "text": [
            "Bitwise AND: 0\n",
            "Bitwise OR: 14\n",
            "Bitwise XOR: 14\n",
            "Bitwise NOT: -11\n",
            "Left Shift: 20\n",
            "Right Shift: 5\n"
          ]
        }
      ]
    },
    {
      "cell_type": "markdown",
      "source": [
        "6. Identity Operators\n",
        "These operators check if two variables point to the same object.\n",
        "•\tis\n",
        "•\tis not"
      ],
      "metadata": {
        "id": "WJxwnxpbrmTB"
      }
    },
    {
      "cell_type": "code",
      "source": [
        "a = [1, 2, 3]\n",
        "b = a\n",
        "c = a[:]\n",
        "print(\"a is b:\", a is b)\n",
        "print(\"a is c:\", a is c)\n",
        "print(\"a is not c:\", a is not c)\n"
      ],
      "metadata": {
        "colab": {
          "base_uri": "https://localhost:8080/"
        },
        "id": "EmbfP_NErpAK",
        "outputId": "717027cc-5d22-4bfa-ab7e-975c76ea9462"
      },
      "execution_count": 24,
      "outputs": [
        {
          "output_type": "stream",
          "name": "stdout",
          "text": [
            "a is b: True\n",
            "a is c: False\n",
            "a is not c: True\n"
          ]
        }
      ]
    },
    {
      "cell_type": "markdown",
      "source": [
        "7. Membership Operators\n",
        "These operators test for membership in sequences (like strings, lists, tuples).\n",
        "•\tin\n",
        "•\tnot in"
      ],
      "metadata": {
        "id": "w_cAshM0r419"
      }
    },
    {
      "cell_type": "code",
      "source": [
        "my_list = [1, 2, 3, 4, 5]\n",
        "print(\"2 in list:\", 2 in my_list)\n",
        "print(\"6 in list:\", 6 in my_list)\n",
        "print(\"10 not in list:\", 10 not in my_list)\n"
      ],
      "metadata": {
        "colab": {
          "base_uri": "https://localhost:8080/"
        },
        "id": "ZN4DDT1ir7Jc",
        "outputId": "d4adea5b-d5be-4aab-84d9-e56a0ccd125f"
      },
      "execution_count": 26,
      "outputs": [
        {
          "output_type": "stream",
          "name": "stdout",
          "text": [
            "2 in list: True\n",
            "6 in list: False\n",
            "10 not in list: True\n"
          ]
        }
      ]
    },
    {
      "cell_type": "markdown",
      "source": [
        "5. Explain concept of type casting in python with examples\n",
        "Types of Type Casting\n",
        "1.\tImplicit Type Casting (Automatic Casting)\n",
        "2.\tExplicit Type Casting (Manual Casting)\n",
        "1. Implicit Type Casting\n",
        "Python automatically converts one data type to another without losing information. This usually happens when a smaller data type is assigned to a larger data type.\n",
        "1. Implicit Type Casting\n",
        "Python automatically converts one data type to another without losing information. This usually happens when a smaller data type is assigned to a larger data type."
      ],
      "metadata": {
        "id": "EpQrQcmesCI1"
      }
    },
    {
      "cell_type": "code",
      "source": [
        "# Implicit Type Casting\n",
        "a = 5       # int\n",
        "b = 2.0     # float\n",
        "\n",
        "# a is automatically converted to float for the operation\n",
        "result = a + b  # result is a float\n",
        "print(result)   # Output: 7.0\n",
        "\n",
        "\n"
      ],
      "metadata": {
        "colab": {
          "base_uri": "https://localhost:8080/"
        },
        "id": "WDQrrZ-EsHJU",
        "outputId": "98ec2175-0830-41a3-c9e2-23befe6e937a"
      },
      "execution_count": 30,
      "outputs": [
        {
          "output_type": "stream",
          "name": "stdout",
          "text": [
            "7.0\n"
          ]
        }
      ]
    },
    {
      "cell_type": "markdown",
      "source": [
        "2. Explicit Type Casting (Manual)\n",
        "In explicit type casting, the programmer manually converts one data type to another using built-in functions.\n",
        "\n",
        "Common Functions for Explicit Casting:\n",
        "int(): Converts to an integer.\n",
        "float(): Converts to a float.\n",
        "str(): Converts to a string.\n",
        "list(): Converts to a list.\n",
        "tuple(): Converts to a tuple."
      ],
      "metadata": {
        "id": "P68GoZ_dsi4H"
      }
    },
    {
      "cell_type": "markdown",
      "source": [
        "Examples:\n",
        "1.Converting to Integer:"
      ],
      "metadata": {
        "id": "sl0SUtyWsnRo"
      }
    },
    {
      "cell_type": "code",
      "source": [
        "# Explicit Type Casting to int\n",
        "num_str = \"10\"\n",
        "num_int = int(num_str)  # Converts string to int\n",
        "print(num_int)          # Output: 10\n"
      ],
      "metadata": {
        "colab": {
          "base_uri": "https://localhost:8080/"
        },
        "id": "0MACqgpmsog3",
        "outputId": "047953e7-790c-4453-ab11-3ef719daf64e"
      },
      "execution_count": 31,
      "outputs": [
        {
          "output_type": "stream",
          "name": "stdout",
          "text": [
            "10\n"
          ]
        }
      ]
    },
    {
      "cell_type": "markdown",
      "source": [
        "2.Converting to Float:"
      ],
      "metadata": {
        "id": "tcgctAmKtAhS"
      }
    },
    {
      "cell_type": "code",
      "source": [
        "# Explicit Type Casting to float\n",
        "num_str = \"10.5\"\n",
        "num_float = float(num_str)  # Converts string to float\n",
        "print(num_float)             # Output: 10.5\n"
      ],
      "metadata": {
        "colab": {
          "base_uri": "https://localhost:8080/"
        },
        "id": "bD93C57dtD4i",
        "outputId": "99249c3f-ef18-444c-a870-a18c9eacf91f"
      },
      "execution_count": 32,
      "outputs": [
        {
          "output_type": "stream",
          "name": "stdout",
          "text": [
            "10.5\n"
          ]
        }
      ]
    },
    {
      "cell_type": "markdown",
      "source": [
        "3.Converting to String:"
      ],
      "metadata": {
        "id": "J--uuXohtGTL"
      }
    },
    {
      "cell_type": "code",
      "source": [
        "# Explicit Type Casting to str\n",
        "num = 100\n",
        "num_str = str(num)  # Converts int to string\n",
        "print(num_str)      # Output: \"100\"\n"
      ],
      "metadata": {
        "colab": {
          "base_uri": "https://localhost:8080/"
        },
        "id": "XxLqhNwStJQC",
        "outputId": "0e0c3f92-e314-405e-cf55-bcf3f5e91863"
      },
      "execution_count": 33,
      "outputs": [
        {
          "output_type": "stream",
          "name": "stdout",
          "text": [
            "100\n"
          ]
        }
      ]
    },
    {
      "cell_type": "markdown",
      "source": [
        "4.Converting to List:"
      ],
      "metadata": {
        "id": "Bxs5zN5htNe7"
      }
    },
    {
      "cell_type": "code",
      "source": [
        "# Explicit Type Casting to list\n",
        "my_tuple = (1, 2, 3)\n",
        "my_list = list(my_tuple)  # Converts tuple to list\n",
        "print(my_list)            # Output: [1, 2, 3]\n"
      ],
      "metadata": {
        "colab": {
          "base_uri": "https://localhost:8080/"
        },
        "id": "cH4iihRotORT",
        "outputId": "426c0c30-5603-4352-e60f-fe3e0d40801f"
      },
      "execution_count": 34,
      "outputs": [
        {
          "output_type": "stream",
          "name": "stdout",
          "text": [
            "[1, 2, 3]\n"
          ]
        }
      ]
    },
    {
      "cell_type": "markdown",
      "source": [
        "5.Converting to Tuple:"
      ],
      "metadata": {
        "id": "_hPAeUxKtRZq"
      }
    },
    {
      "cell_type": "code",
      "source": [
        "# Explicit Type Casting to tuple\n",
        "my_list = [1, 2, 3]\n",
        "my_tuple = tuple(my_list)  # Converts list to tuple\n",
        "print(my_tuple)            # Output: (1, 2, 3)\n"
      ],
      "metadata": {
        "colab": {
          "base_uri": "https://localhost:8080/"
        },
        "id": "UhDUPbrhtUZb",
        "outputId": "253ebc0b-18c1-43ba-e58a-c27e1d1e8a56"
      },
      "execution_count": 35,
      "outputs": [
        {
          "output_type": "stream",
          "name": "stdout",
          "text": [
            "(1, 2, 3)\n"
          ]
        }
      ]
    },
    {
      "cell_type": "markdown",
      "source": [
        "6. How do conditional statement works in python? Illustrate with examples\n",
        "Conditional statements in Python allow you to execute certain blocks of code based on whether a condition is true or false. The primary conditional statements in Python are if, elif, and else. Here’s how they work, along with"
      ],
      "metadata": {
        "id": "cen0XUq7tWyi"
      }
    },
    {
      "cell_type": "markdown",
      "source": [
        "1. if Statement"
      ],
      "metadata": {
        "id": "IvxvE9AZtyp2"
      }
    },
    {
      "cell_type": "code",
      "source": [
        "age = 18\n",
        "\n",
        "if age >= 18:\n",
        "    print(\"You are an adult.\")\n"
      ],
      "metadata": {
        "colab": {
          "base_uri": "https://localhost:8080/"
        },
        "id": "xN7X-de0tzbl",
        "outputId": "6ab525ff-5549-4fce-bf9c-934f5005f180"
      },
      "execution_count": 36,
      "outputs": [
        {
          "output_type": "stream",
          "name": "stdout",
          "text": [
            "You are an adult.\n"
          ]
        }
      ]
    },
    {
      "cell_type": "markdown",
      "source": [
        "2. else Statement"
      ],
      "metadata": {
        "id": "BaCs7Wvrt2J9"
      }
    },
    {
      "cell_type": "code",
      "source": [
        "age = 16\n",
        "\n",
        "if age >= 18:\n",
        "    print(\"You are an adult.\")\n",
        "else:\n",
        "    print(\"You are not an adult.\")\n"
      ],
      "metadata": {
        "colab": {
          "base_uri": "https://localhost:8080/"
        },
        "id": "RLw18S-Ut5IN",
        "outputId": "c805ff7c-00f3-4d0b-e4a0-4ef69d5381f1"
      },
      "execution_count": 37,
      "outputs": [
        {
          "output_type": "stream",
          "name": "stdout",
          "text": [
            "You are not an adult.\n"
          ]
        }
      ]
    },
    {
      "cell_type": "markdown",
      "source": [
        "3. elif Statement"
      ],
      "metadata": {
        "id": "EJDqCuDbuVIu"
      }
    },
    {
      "cell_type": "code",
      "source": [
        "score = 75\n",
        "\n",
        "if score >= 90:\n",
        "    print(\"Grade: A\")\n",
        "elif score >= 80:\n",
        "    print(\"Grade: B\")\n",
        "elif score >= 70:\n",
        "    print(\"Grade: C\")\n",
        "else:\n",
        "    print(\"Grade: D\")\n"
      ],
      "metadata": {
        "colab": {
          "base_uri": "https://localhost:8080/"
        },
        "id": "BMcvHalBuVrW",
        "outputId": "566133cc-22ea-4a67-d65c-4d374dc925a2"
      },
      "execution_count": 38,
      "outputs": [
        {
          "output_type": "stream",
          "name": "stdout",
          "text": [
            "Grade: C\n"
          ]
        }
      ]
    },
    {
      "cell_type": "markdown",
      "source": [
        "4. Combining Conditions\n",
        "You can combine multiple conditions using logical operators (and, or, not)."
      ],
      "metadata": {
        "id": "XuKuwjdzubbQ"
      }
    },
    {
      "cell_type": "code",
      "source": [
        "age = 20\n",
        "has_license = True\n",
        "\n",
        "if age >= 18 and has_license:\n",
        "    print(\"You can drive.\")\n",
        "else:\n",
        "    print(\"You cannot drive.\")\n"
      ],
      "metadata": {
        "colab": {
          "base_uri": "https://localhost:8080/"
        },
        "id": "eiKS89P8ud9_",
        "outputId": "dcd82c5d-18b8-4024-c5c8-9c552ec16106"
      },
      "execution_count": 39,
      "outputs": [
        {
          "output_type": "stream",
          "name": "stdout",
          "text": [
            "You can drive.\n"
          ]
        }
      ]
    },
    {
      "cell_type": "markdown",
      "source": [
        "5. Nested Conditional Statements\n",
        "You can also nest if statements inside other if statements for more complex conditions."
      ],
      "metadata": {
        "id": "-5Mp5Tl8ug6p"
      }
    },
    {
      "cell_type": "code",
      "source": [
        "num = 5\n",
        "\n",
        "if num > 0:\n",
        "    print(\"Positive number\")\n",
        "    if num % 2 == 0:\n",
        "        print(\"Even number\")\n",
        "    else:\n",
        "        print(\"Odd number\")\n",
        "else:\n",
        "    print(\"Negative number\")\n"
      ],
      "metadata": {
        "colab": {
          "base_uri": "https://localhost:8080/"
        },
        "id": "F0kf4Kr6uheW",
        "outputId": "8357c98f-187a-42cd-ba52-be92ed4f3ee2"
      },
      "execution_count": 40,
      "outputs": [
        {
          "output_type": "stream",
          "name": "stdout",
          "text": [
            "Positive number\n",
            "Odd number\n"
          ]
        }
      ]
    },
    {
      "cell_type": "markdown",
      "source": [
        "6. Ternary Conditional Operator\n",
        "Python also provides a way to write conditional statements in a single line using the ternary operator."
      ],
      "metadata": {
        "id": "D9u3isk8ulqX"
      }
    },
    {
      "cell_type": "code",
      "source": [
        "age = 15\n",
        "status = \"Adult\" if age >= 18 else \"Not an adult\"\n",
        "print(status)  # Output: Not an adult\n"
      ],
      "metadata": {
        "colab": {
          "base_uri": "https://localhost:8080/"
        },
        "id": "BnHp11oSx5R0",
        "outputId": "27151b4e-c906-41dd-a011-f4cc8fed1804"
      },
      "execution_count": 45,
      "outputs": [
        {
          "output_type": "stream",
          "name": "stdout",
          "text": [
            "Not an adult\n"
          ]
        }
      ]
    },
    {
      "cell_type": "markdown",
      "source": [
        "summary:\n",
        "if: Evaluates a condition and executes code if True.\n",
        "else: Executes code if the if condition is False.\n",
        "elif: Checks multiple conditions in sequence.\n",
        "Logical Operators: Combine conditions for more complex checks.\n",
        "Nested Statements: Allows conditions within conditions.\n",
        "Ternary Operator: A shorthand for simple conditional assignments.\n",
        "These conditional statements provide flexibility and control in your code, enabling you to handle different scenarios effectively."
      ],
      "metadata": {
        "id": "S81eZ-BZx9ez"
      }
    },
    {
      "cell_type": "markdown",
      "source": [
        "7. Describe various types of loops in python and their use cases with examples\n",
        "\n",
        "In Python, loops are used to execute a block of code repeatedly as long as a specified condition is true. The primary types of loops are for loops and while loops. Each type has its specific use cases and syntax. Here’s an overview of the different types of loops, along with examples."
      ],
      "metadata": {
        "id": "KZfoMr4mx_nU"
      }
    },
    {
      "cell_type": "markdown",
      "source": [
        "1. for Loop\n",
        "The for loop is used to iterate over a sequence (like a list, tuple, string, or range). It is particularly useful when you know the number of iterations in advance."
      ],
      "metadata": {
        "id": "e8rQPHU7yQj8"
      }
    },
    {
      "cell_type": "code",
      "source": [
        "# Iterating over a list\n",
        "fruits = [\"apple\", \"banana\", \"cherry\"]\n",
        "for fruit in fruits:\n",
        "    print(fruit)\n"
      ],
      "metadata": {
        "colab": {
          "base_uri": "https://localhost:8080/"
        },
        "id": "srB8FNPTyRHr",
        "outputId": "c5aa7ea2-1757-4be9-a0b1-1160aeaeb734"
      },
      "execution_count": 46,
      "outputs": [
        {
          "output_type": "stream",
          "name": "stdout",
          "text": [
            "apple\n",
            "banana\n",
            "cherry\n"
          ]
        }
      ]
    },
    {
      "cell_type": "markdown",
      "source": [
        "2. while Loop\n",
        "The while loop repeatedly executes a block of code as long as a specified condition is true. It is useful when the number of iterations is not known beforehand and depends on dynamic conditions."
      ],
      "metadata": {
        "id": "DjcgDpj6yTp7"
      }
    },
    {
      "cell_type": "code",
      "source": [
        "# Using a while loop\n",
        "count = 0\n",
        "while count < 5:\n",
        "    print(count)\n",
        "    count += 1\n"
      ],
      "metadata": {
        "colab": {
          "base_uri": "https://localhost:8080/"
        },
        "id": "yqjUUYhEyXlz",
        "outputId": "7fc87784-3c5e-4447-ad51-18b2531b3710"
      },
      "execution_count": 47,
      "outputs": [
        {
          "output_type": "stream",
          "name": "stdout",
          "text": [
            "0\n",
            "1\n",
            "2\n",
            "3\n",
            "4\n"
          ]
        }
      ]
    },
    {
      "cell_type": "markdown",
      "source": [
        "3. Nested Loops\n",
        "You can use loops inside other loops, known as nested loops. This is useful for working with multi-dimensional data structures, such as lists of lists."
      ],
      "metadata": {
        "id": "sm0hw627ya59"
      }
    },
    {
      "cell_type": "code",
      "source": [
        "# Nested loops\n",
        "for i in range(3):\n",
        "    for j in range(2):\n",
        "        print(f\"i = {i}, j = {j}\")\n"
      ],
      "metadata": {
        "colab": {
          "base_uri": "https://localhost:8080/"
        },
        "id": "OFeRk6WWybZ7",
        "outputId": "8cef5fff-e2e8-46ce-f149-2d15174492b7"
      },
      "execution_count": 48,
      "outputs": [
        {
          "output_type": "stream",
          "name": "stdout",
          "text": [
            "i = 0, j = 0\n",
            "i = 0, j = 1\n",
            "i = 1, j = 0\n",
            "i = 1, j = 1\n",
            "i = 2, j = 0\n",
            "i = 2, j = 1\n"
          ]
        }
      ]
    },
    {
      "cell_type": "markdown",
      "source": [
        "4. Loop Control Statements\n",
        "Python provides several control statements to alter the flow of loops:\n",
        "\n",
        "break: Terminates the loop prematurely.\n",
        "continue: Skips the current iteration and proceeds to the next iteration.\n",
        "pass: Does nothing and is often used as a placeholder."
      ],
      "metadata": {
        "id": "-zJkLVEGygLE"
      }
    },
    {
      "cell_type": "markdown",
      "source": [
        "e.g. of break"
      ],
      "metadata": {
        "id": "xl_LZDRNyiez"
      }
    },
    {
      "cell_type": "code",
      "source": [
        "for num in range(10):\n",
        "    if num == 5:\n",
        "        break\n",
        "    print(num)\n"
      ],
      "metadata": {
        "colab": {
          "base_uri": "https://localhost:8080/"
        },
        "id": "4ScHDt-kykYn",
        "outputId": "ba10664c-59a2-4369-d794-7793570813da"
      },
      "execution_count": 49,
      "outputs": [
        {
          "output_type": "stream",
          "name": "stdout",
          "text": [
            "0\n",
            "1\n",
            "2\n",
            "3\n",
            "4\n"
          ]
        }
      ]
    },
    {
      "cell_type": "markdown",
      "source": [
        "Example of continue"
      ],
      "metadata": {
        "id": "H5nEXK8ryoW2"
      }
    },
    {
      "cell_type": "code",
      "source": [
        "for num in range(5):\n",
        "    if num == 2:\n",
        "        continue\n",
        "    print(num)\n"
      ],
      "metadata": {
        "colab": {
          "base_uri": "https://localhost:8080/"
        },
        "id": "L_428tepypC8",
        "outputId": "2e205e85-4732-4745-cc0c-b888a0864198"
      },
      "execution_count": 50,
      "outputs": [
        {
          "output_type": "stream",
          "name": "stdout",
          "text": [
            "0\n",
            "1\n",
            "3\n",
            "4\n"
          ]
        }
      ]
    },
    {
      "cell_type": "markdown",
      "source": [
        "Example of pass"
      ],
      "metadata": {
        "id": "4bdH82ZTyszs"
      }
    },
    {
      "cell_type": "code",
      "source": [
        "for num in range(5):\n",
        "    if num == 2:\n",
        "        pass  # Placeholder\n",
        "    print(num)\n"
      ],
      "metadata": {
        "colab": {
          "base_uri": "https://localhost:8080/"
        },
        "id": "vWNiBrAIytyT",
        "outputId": "c4b1bca8-88b6-4184-c7c9-ce71bf423a61"
      },
      "execution_count": 51,
      "outputs": [
        {
          "output_type": "stream",
          "name": "stdout",
          "text": [
            "0\n",
            "1\n",
            "2\n",
            "3\n",
            "4\n"
          ]
        }
      ]
    },
    {
      "cell_type": "markdown",
      "source": [
        "Loops are fundamental to programming in Python, allowing you to automate repetitive tasks and handle collections of data efficiently."
      ],
      "metadata": {
        "id": "rtt4awM0y1zq"
      }
    }
  ]
}