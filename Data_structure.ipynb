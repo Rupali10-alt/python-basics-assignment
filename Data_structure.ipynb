{
  "nbformat": 4,
  "nbformat_minor": 0,
  "metadata": {
    "colab": {
      "provenance": []
    },
    "kernelspec": {
      "name": "python3",
      "display_name": "Python 3"
    },
    "language_info": {
      "name": "python"
    }
  },
  "cells": [
    {
      "cell_type": "markdown",
      "source": [
        "1.Discuss string slicing & provide examples\n",
        "\n",
        "\n",
        "String slicing in Python is a technique that allows you to extract a portion of a string. This feature is useful for manipulating and processing text data. The syntax for string slicing is\n",
        "\n",
        "string[start:end:step]\n",
        "\n",
        "start: The index where the slice begins (inclusive).\n",
        "end: The index where the slice ends (exclusive).\n",
        "step: The interval between each index in the slice (optional).\n"
      ],
      "metadata": {
        "id": "KWFwk9xVuGZX"
      }
    },
    {
      "cell_type": "markdown",
      "source": [
        "Examples\n",
        "1. Basic Slicing"
      ],
      "metadata": {
        "id": "oJN8j80wwNq-"
      }
    },
    {
      "cell_type": "code",
      "source": [
        "text = \"Hello, World!\"\n",
        "# Slice from index 0 to 5\n",
        "slice1 = text[0:5]\n",
        "print(slice1)\n"
      ],
      "metadata": {
        "colab": {
          "base_uri": "https://localhost:8080/"
        },
        "id": "BdrddSUGwOhM",
        "outputId": "c86ff094-c126-461a-caa9-f687bad365f8"
      },
      "execution_count": null,
      "outputs": [
        {
          "output_type": "stream",
          "name": "stdout",
          "text": [
            "Hello\n"
          ]
        }
      ]
    },
    {
      "cell_type": "markdown",
      "source": [
        "2. Omitting Indices"
      ],
      "metadata": {
        "id": "gtAkN0hTwS3c"
      }
    },
    {
      "cell_type": "code",
      "source": [
        "# Omit start, go from index 0 to 5\n",
        "slice2 = text[:5]\n",
        "print(slice2)\n"
      ],
      "metadata": {
        "colab": {
          "base_uri": "https://localhost:8080/"
        },
        "id": "dtDmcrbNwUp7",
        "outputId": "2c357f78-3484-4e56-f195-48e33ad239e2"
      },
      "execution_count": null,
      "outputs": [
        {
          "output_type": "stream",
          "name": "stdout",
          "text": [
            "Hello\n"
          ]
        }
      ]
    },
    {
      "cell_type": "code",
      "source": [
        "# Omit end, go from index 7 to the end\n",
        "slice3 = text[7:]\n",
        "print(slice3)"
      ],
      "metadata": {
        "colab": {
          "base_uri": "https://localhost:8080/"
        },
        "id": "ENaOtGY_wmBr",
        "outputId": "49616684-5baa-45b7-a154-991363b4ba00"
      },
      "execution_count": null,
      "outputs": [
        {
          "output_type": "stream",
          "name": "stdout",
          "text": [
            "World!\n"
          ]
        }
      ]
    },
    {
      "cell_type": "markdown",
      "source": [
        "3. Using Negative Indices"
      ],
      "metadata": {
        "id": "-W6uqft-wvQr"
      }
    },
    {
      "cell_type": "code",
      "source": [
        "# Slice using negative indices\n",
        "slice4 = text[-6:-1]  # Outputs: 'World'\n",
        "print(slice4)\n"
      ],
      "metadata": {
        "colab": {
          "base_uri": "https://localhost:8080/"
        },
        "id": "2WsF-Z9Iwy_b",
        "outputId": "3e328d6e-0753-46a0-fbed-2a3fe173a200"
      },
      "execution_count": null,
      "outputs": [
        {
          "output_type": "stream",
          "name": "stdout",
          "text": [
            "World\n"
          ]
        }
      ]
    },
    {
      "cell_type": "code",
      "source": [
        "# Slice the last 5 characters\n",
        "slice5 = text[-5:]  # Outputs: 'orld!'\n",
        "print(slice5)"
      ],
      "metadata": {
        "colab": {
          "base_uri": "https://localhost:8080/"
        },
        "id": "fflcOWi2w2B6",
        "outputId": "60dbe91a-b941-4815-c43b-44728a4a273d"
      },
      "execution_count": null,
      "outputs": [
        {
          "output_type": "stream",
          "name": "stdout",
          "text": [
            "orld!\n"
          ]
        }
      ]
    },
    {
      "cell_type": "markdown",
      "source": [
        "4. Slicing with Step"
      ],
      "metadata": {
        "id": "eAwtedMIxTcb"
      }
    },
    {
      "cell_type": "code",
      "source": [
        "# Slicing with a step\n",
        "slice6 = text[::2]  # Outputs: 'Hlo ol!'\n",
        "print(slice6)"
      ],
      "metadata": {
        "colab": {
          "base_uri": "https://localhost:8080/"
        },
        "id": "FXcAiF89xWep",
        "outputId": "1b9282b7-a313-496d-d151-c419bd9da40b"
      },
      "execution_count": null,
      "outputs": [
        {
          "output_type": "stream",
          "name": "stdout",
          "text": [
            "Hlo ol!\n"
          ]
        }
      ]
    },
    {
      "cell_type": "code",
      "source": [
        "# Reverse the string using slicing\n",
        "slice7 = text[::-1]  # Outputs: '!dlroW ,olleH'\n",
        "print(slice7)"
      ],
      "metadata": {
        "colab": {
          "base_uri": "https://localhost:8080/"
        },
        "id": "v_P6YdbFxZYo",
        "outputId": "770677d1-5115-4844-dea4-f2986c012fbc"
      },
      "execution_count": null,
      "outputs": [
        {
          "output_type": "stream",
          "name": "stdout",
          "text": [
            "!dlroW ,olleH\n"
          ]
        }
      ]
    },
    {
      "cell_type": "markdown",
      "source": [
        "5. Advanced Slicing"
      ],
      "metadata": {
        "id": "RNh1spkrxeHZ"
      }
    },
    {
      "cell_type": "code",
      "source": [
        "# Combine start, end, and step\n",
        "slice8 = text[0:12:3]  # Outputs: 'Hl r!'\n",
        "print(slice8)\n"
      ],
      "metadata": {
        "colab": {
          "base_uri": "https://localhost:8080/"
        },
        "id": "jA5zqe_HxgHJ",
        "outputId": "04323486-6fe4-4a26-b7cf-3d5b344c9682"
      },
      "execution_count": null,
      "outputs": [
        {
          "output_type": "stream",
          "name": "stdout",
          "text": [
            "Hl r\n"
          ]
        }
      ]
    },
    {
      "cell_type": "code",
      "source": [
        "# Reverse with a step\n",
        "slice9 = text[5:0:-1]  # Outputs: ', ol'\n",
        "print(slice9)"
      ],
      "metadata": {
        "colab": {
          "base_uri": "https://localhost:8080/"
        },
        "id": "07WFmZZexi5g",
        "outputId": "49671267-ae6c-430a-c049-2de8cd3e33db"
      },
      "execution_count": null,
      "outputs": [
        {
          "output_type": "stream",
          "name": "stdout",
          "text": [
            ",olle\n"
          ]
        }
      ]
    },
    {
      "cell_type": "markdown",
      "source": [
        "2.Explain key features of lists in python\n",
        "\n",
        "Lists in Python are versatile and widely used data structures that allow you to store and manipulate collections of items.\n",
        "\n",
        "1. Ordered Collection\n",
        "Lists maintain the order of elements. The items in a list are indexed, meaning you can access them using their position in the list (starting from index 0).\n",
        "2. Mutable\n",
        "Lists are mutable, which means you can modify them after their creation. You can change, add, or remove items without creating a new list.\n",
        "3. Dynamic Sizing\n",
        "Lists can grow or shrink in size as needed. You don’t need to declare a fixed size, and you can add or remove elements at any time.\n",
        "4. Heterogeneous Elements\n",
        "Lists can contain elements of different data types. You can store integers, strings, floats, other lists, or any other Python objects in a single list.\n",
        "5. Nested Lists\n",
        "Lists can contain other lists as elements, allowing for the creation of multi-dimensional data structures (e.g., matrices).\n",
        "6. Built-in Methods\n",
        "Python provides many built-in methods to operate on lists, such as:\n",
        "append(): Adds an element to the end of the list.\n",
        "extend(): Adds elements from another iterable to the end of the list.\n",
        "insert(): Inserts an element at a specified index.\n",
        "remove(): Removes the first occurrence of a specified value.\n",
        "pop(): Removes and returns an element at a specified index (or the last element if no index is provided).\n",
        "sort(): Sorts the list in place.\n",
        "reverse(): Reverses the order of the list in place.\n",
        "7. List Comprehensions\n",
        "Python supports list comprehensions, which provide a concise way to create lists. You can generate lists based on existing lists using a single line of code.\n",
        "8. Support for Slicing\n",
        "Lists support slicing, allowing you to extract a portion of the list by specifying a range of indices.\n",
        "9. Flexible Indexing\n",
        "You can access list elements using both positive and negative indexing. Negative indexing allows you to access elements from the end of the list (e.g., -1 is the last element).\n",
        "10. Iterable\n",
        "Lists are iterable, meaning you can loop through their elements using for loops or other iteration methods."
      ],
      "metadata": {
        "id": "y3oHnrqmyitA"
      }
    },
    {
      "cell_type": "code",
      "source": [
        "# Creating a list\n",
        "my_list = [1, 2, 3, 'apple', 'banana']\n",
        "\n",
        "# Accessing elements\n",
        "print(my_list[0])\n",
        "print(my_list[-1])\n",
        "\n",
        "# Modifying the list\n",
        "my_list.append('cherry')\n",
        "my_list.remove(2)\n",
        "print(my_list)\n",
        "\n",
        "# List comprehension\n",
        "squared_numbers = [x**2 for x in range(5)]\n",
        "print(squared_numbers)\n",
        "\n",
        "# Slicing\n",
        "slice_of_list = my_list[1:4]\n",
        "print(slice_of_list)\n"
      ],
      "metadata": {
        "colab": {
          "base_uri": "https://localhost:8080/"
        },
        "id": "aiZsOYT4yxDh",
        "outputId": "ba2e9027-6705-49ce-f4d0-83d6292af017"
      },
      "execution_count": null,
      "outputs": [
        {
          "output_type": "stream",
          "name": "stdout",
          "text": [
            "1\n",
            "banana\n",
            "[1, 3, 'apple', 'banana', 'cherry']\n",
            "[0, 1, 4, 9, 16]\n",
            "[3, 'apple', 'banana']\n"
          ]
        }
      ]
    },
    {
      "cell_type": "markdown",
      "source": [
        "3. Describe how to access, modify ,& delete elements in a list with example\n",
        "\n",
        "1. Accessing Elements:\n",
        "We can access elements in a list using their index. Python uses zero-based indexing, meaning the first element is at index 0.\n",
        "e.g."
      ],
      "metadata": {
        "id": "mMitdXZwzZOG"
      }
    },
    {
      "cell_type": "code",
      "source": [
        "# Create a list\n",
        "my_list = [10, 20, 30, 40, 50]\n",
        "\n",
        "# Accessing elements\n",
        "first_element = my_list[0]\n",
        "last_element = my_list[-1]\n",
        "\n",
        "print(first_element)\n",
        "print(last_element)\n"
      ],
      "metadata": {
        "colab": {
          "base_uri": "https://localhost:8080/"
        },
        "id": "CSXXCfoCzlHu",
        "outputId": "87d73722-a0da-40fc-e8d1-019a20c10fe1"
      },
      "execution_count": null,
      "outputs": [
        {
          "output_type": "stream",
          "name": "stdout",
          "text": [
            "10\n",
            "50\n"
          ]
        }
      ]
    },
    {
      "cell_type": "markdown",
      "source": [
        "2. Modifying Elements\n",
        "We can modify elements in a list by accessing them via their index and assigning a new value.\n",
        "e.g."
      ],
      "metadata": {
        "id": "bWEjRa-yzqpZ"
      }
    },
    {
      "cell_type": "code",
      "source": [
        "# Modify the second element\n",
        "my_list[1] = 25  # Changes 20 to 25\n",
        "print(my_list)\n",
        "\n",
        "# Modify the last element\n",
        "my_list[-1] = 55  # Changes 50 to 55\n",
        "print(my_list)\n"
      ],
      "metadata": {
        "colab": {
          "base_uri": "https://localhost:8080/"
        },
        "id": "JjLLm0iwzvle",
        "outputId": "0ecd1957-e7ad-4558-c369-800f79573a4e"
      },
      "execution_count": null,
      "outputs": [
        {
          "output_type": "stream",
          "name": "stdout",
          "text": [
            "[10, 25, 30, 40, 50]\n",
            "[10, 25, 30, 40, 55]\n"
          ]
        }
      ]
    },
    {
      "cell_type": "markdown",
      "source": [
        "3. Deleting Elements\n",
        "We can delete elements from a list using various methods, such as del, remove(), and pop()."
      ],
      "metadata": {
        "id": "hUhso5QD0B3G"
      }
    },
    {
      "cell_type": "markdown",
      "source": [
        "e.g. del()"
      ],
      "metadata": {
        "id": "fuqknp9y0GOW"
      }
    },
    {
      "cell_type": "code",
      "source": [
        "# Delete the third element\n",
        "del my_list[2]  # Removes 30\n",
        "print(my_list)   # Outputs: [10, 25, 40, 55]\n"
      ],
      "metadata": {
        "colab": {
          "base_uri": "https://localhost:8080/"
        },
        "id": "BjnzvpDH0H1H",
        "outputId": "8a024603-3901-467c-8055-b79b1095d68c"
      },
      "execution_count": null,
      "outputs": [
        {
          "output_type": "stream",
          "name": "stdout",
          "text": [
            "[10, 25, 40, 55]\n"
          ]
        }
      ]
    },
    {
      "cell_type": "markdown",
      "source": [
        "Example using remove()"
      ],
      "metadata": {
        "id": "6bwbmb6a0K93"
      }
    },
    {
      "cell_type": "code",
      "source": [
        "# Remove an element by value\n",
        "my_list.remove(25)\n",
        "print(my_list)\n"
      ],
      "metadata": {
        "colab": {
          "base_uri": "https://localhost:8080/"
        },
        "id": "UoqMrVpw0P0l",
        "outputId": "a47615ca-dd7d-4241-bd71-f359296d1312"
      },
      "execution_count": null,
      "outputs": [
        {
          "output_type": "stream",
          "name": "stdout",
          "text": [
            "[10, 40, 55]\n"
          ]
        }
      ]
    },
    {
      "cell_type": "markdown",
      "source": [
        "Example using pop()"
      ],
      "metadata": {
        "id": "U3v3_cZq0R43"
      }
    },
    {
      "cell_type": "code",
      "source": [
        "# Pop an element (removes and returns it)\n",
        "popped_element = my_list.pop()\n",
        "print(popped_element)\n",
        "print(my_list)\n"
      ],
      "metadata": {
        "colab": {
          "base_uri": "https://localhost:8080/"
        },
        "id": "u_3x9Jnr0Su9",
        "outputId": "bb9f4f2f-9058-4e9b-e5c3-04552f6a1058"
      },
      "execution_count": null,
      "outputs": [
        {
          "output_type": "stream",
          "name": "stdout",
          "text": [
            "55\n",
            "[10, 40]\n"
          ]
        }
      ]
    },
    {
      "cell_type": "markdown",
      "source": [
        "Accessing: Use indexing (my_list[index]) to get an element.\n",
        "Modifying: Assign a new value using indexing (my_list[index] = new_value).\n",
        "Deleting: Use del, remove(value), or pop(index) to remove elements."
      ],
      "metadata": {
        "id": "r55pz4i90bn-"
      }
    },
    {
      "cell_type": "markdown",
      "source": [
        "4. Compare & contrast tuples & lists with examples?\n",
        "\n",
        "\n",
        "Tuples and lists are both built-in data structures in Python that can store collections of items. However, they have distinct characteristics that make them suitable for different use cases.\n",
        "\n",
        "Lists are mutable and suitable for collections that may change, while tuples are immutable and are best for fixed collections."
      ],
      "metadata": {
        "id": "4wSP4yzx0cYd"
      }
    },
    {
      "cell_type": "markdown",
      "source": [
        "Examples\n",
        "1. Creating Lists and Tuples"
      ],
      "metadata": {
        "id": "ZaX4BlxsFWPd"
      }
    },
    {
      "cell_type": "code",
      "source": [
        "# Creating a list\n",
        "my_list = [1, 2, 3, 4, 5]\n",
        "print(\"List:\", my_list)\n",
        "\n",
        "# Creating a tuple\n",
        "my_tuple = (1, 2, 3, 4, 5)\n",
        "print(\"Tuple:\", my_tuple)\n"
      ],
      "metadata": {
        "colab": {
          "base_uri": "https://localhost:8080/"
        },
        "id": "eJ9YbNBJFW3F",
        "outputId": "a28954b3-4ea5-4711-c2f6-cfed29db084c"
      },
      "execution_count": null,
      "outputs": [
        {
          "output_type": "stream",
          "name": "stdout",
          "text": [
            "List: [1, 2, 3, 4, 5]\n",
            "Tuple: (1, 2, 3, 4, 5)\n"
          ]
        }
      ]
    },
    {
      "cell_type": "markdown",
      "source": [
        "2. Mutability"
      ],
      "metadata": {
        "id": "_f1tgMJ5FdmP"
      }
    },
    {
      "cell_type": "code",
      "source": [
        "# Modifying a list\n",
        "my_list[0] = 10  # Changes the first element\n",
        "print(\"Modified List:\", my_list)\n",
        "\n",
        "# Attempting to modify a tuple (will raise an error)\n",
        "try:\n",
        "    my_tuple[0] = 10  # Raises TypeError\n",
        "except TypeError as e:\n",
        "    print(\"Error:\", e)\n"
      ],
      "metadata": {
        "colab": {
          "base_uri": "https://localhost:8080/"
        },
        "id": "am_rfR00Ff8e",
        "outputId": "c7d3fd1a-5068-489b-e2c8-d46c4873dcc6"
      },
      "execution_count": null,
      "outputs": [
        {
          "output_type": "stream",
          "name": "stdout",
          "text": [
            "Modified List: [10, 2, 3, 4, 5]\n",
            "Error: 'tuple' object does not support item assignment\n"
          ]
        }
      ]
    },
    {
      "cell_type": "markdown",
      "source": [
        "3. Adding Elements"
      ],
      "metadata": {
        "id": "Jm_ufZiHFibV"
      }
    },
    {
      "cell_type": "code",
      "source": [
        "# Adding elements to a list\n",
        "my_list.append(6)\n",
        "print(\"List after append:\", my_list)\n",
        "\n",
        "# Tuples do not have an append method\n",
        "# You can create a new tuple instead\n",
        "new_tuple = my_tuple + (6,)\n",
        "print(\"New Tuple:\", new_tuple)\n"
      ],
      "metadata": {
        "colab": {
          "base_uri": "https://localhost:8080/"
        },
        "id": "FnZc3w_bFi2G",
        "outputId": "86e29891-e7c4-4794-e39c-3c1221e9184d"
      },
      "execution_count": null,
      "outputs": [
        {
          "output_type": "stream",
          "name": "stdout",
          "text": [
            "List after append: [10, 2, 3, 4, 5, 6]\n",
            "New Tuple: (1, 2, 3, 4, 5, 6)\n"
          ]
        }
      ]
    },
    {
      "cell_type": "markdown",
      "source": [
        "4. Performance\n",
        "Tuples can be faster than lists for certain operations because they are immutable and have a smaller memory footprint. You can test this with the time module."
      ],
      "metadata": {
        "id": "Cq-NEHRgFmXN"
      }
    },
    {
      "cell_type": "code",
      "source": [
        "import time\n",
        "\n",
        "# Creating a list and a tuple\n",
        "large_list = list(range(100000))\n",
        "large_tuple = tuple(range(100000))\n",
        "\n",
        "# Timing list access\n",
        "start_time = time.time()\n",
        "_ = large_list[50000]\n",
        "print(\"List access time:\", time.time() - start_time)\n",
        "\n",
        "# Timing tuple access\n",
        "start_time = time.time()\n",
        "_ = large_tuple[50000]\n",
        "print(\"Tuple access time:\", time.time() - start_time)\n"
      ],
      "metadata": {
        "colab": {
          "base_uri": "https://localhost:8080/"
        },
        "id": "D3ZlEH90Foqd",
        "outputId": "e3929953-8f39-4b90-ebf6-60e5f083e260"
      },
      "execution_count": null,
      "outputs": [
        {
          "output_type": "stream",
          "name": "stdout",
          "text": [
            "List access time: 0.00010395050048828125\n",
            "Tuple access time: 7.104873657226562e-05\n"
          ]
        }
      ]
    },
    {
      "cell_type": "markdown",
      "source": [
        "5. Use Cases\n",
        "Lists: Useful when you need a collection of items that may change over time, such as a list of tasks or shopping items."
      ],
      "metadata": {
        "id": "xeFDtwDpFrH1"
      }
    },
    {
      "cell_type": "code",
      "source": [
        "tasks = [\"clean\", \"cook\", \"exercise\"]\n",
        "tasks.append(\"read\")\n",
        "print(\"Tasks:\", tasks)\n"
      ],
      "metadata": {
        "colab": {
          "base_uri": "https://localhost:8080/"
        },
        "id": "Gyg5kxJOFzdG",
        "outputId": "3f11996d-697c-4ee4-d0f2-2d76af0119bd"
      },
      "execution_count": null,
      "outputs": [
        {
          "output_type": "stream",
          "name": "stdout",
          "text": [
            "Tasks: ['clean', 'cook', 'exercise', 'read']\n"
          ]
        }
      ]
    },
    {
      "cell_type": "markdown",
      "source": [
        "Tuples: Useful for fixed collections of items, such as coordinates or database records."
      ],
      "metadata": {
        "id": "y-ofG92qF3an"
      }
    },
    {
      "cell_type": "code",
      "source": [
        "coordinates = (10.0, 20.0)  # Fixed collection of values\n",
        "print(\"Coordinates:\", coordinates)\n"
      ],
      "metadata": {
        "colab": {
          "base_uri": "https://localhost:8080/"
        },
        "id": "-pq1ikvTGEwc",
        "outputId": "a9988f59-db45-4ce7-da9e-13bcf6aa1aca"
      },
      "execution_count": null,
      "outputs": [
        {
          "output_type": "stream",
          "name": "stdout",
          "text": [
            "Coordinates: (10.0, 20.0)\n"
          ]
        }
      ]
    },
    {
      "cell_type": "markdown",
      "source": [
        "5. Describe the key features of sets & provide examples of their use\n",
        "\n",
        "\n",
        "Key Features of Sets\n",
        "1.Unordered\n",
        "Sets do not maintain any order of elements. The items in a set cannot be accessed via indices like lists or tuples.\n",
        "2.Unique Elements:\n",
        "Sets automatically ensure that all elements are unique. If you try to add a duplicate item, it will be ignored.\n",
        "3.Mutable:\n",
        "Sets are mutable, meaning you can add or remove elements after the set is created.\n",
        "4.Dynamic Size:\n",
        "Sets can grow or shrink in size as elements are added or removed.\n",
        "5.Support for Mathematical Operations:\n",
        "Sets support operations like union, intersection, difference, and symmetric difference, making them useful for mathematical set theory applications.\n",
        "6.No Indexing or Slicing:\n",
        "Since sets are unordered, We cannot access elements using indices or slices.\n",
        "7.Performance:\n",
        "Sets generally offer faster membership tests and operations compared to lists, as they are implemented using hash tables.\n",
        "\n",
        "Examples\n",
        "1. Creating a Set"
      ],
      "metadata": {
        "id": "AOdu1tfqGYbU"
      }
    },
    {
      "cell_type": "code",
      "source": [
        "# Creating a set\n",
        "my_set = {1, 2, 3, 4, 5}\n",
        "print(\"Set:\", my_set)\n"
      ],
      "metadata": {
        "colab": {
          "base_uri": "https://localhost:8080/"
        },
        "id": "EpWRXbSVI7Wv",
        "outputId": "7315f64d-d26f-49c1-94a3-4e169f33e742"
      },
      "execution_count": null,
      "outputs": [
        {
          "output_type": "stream",
          "name": "stdout",
          "text": [
            "Set: {1, 2, 3, 4, 5}\n"
          ]
        }
      ]
    },
    {
      "cell_type": "markdown",
      "source": [
        "2. Adding Elements"
      ],
      "metadata": {
        "id": "hDQk4SdEI-xn"
      }
    },
    {
      "cell_type": "code",
      "source": [
        "# Adding elements to a set\n",
        "my_set.add(6)\n",
        "my_set.add(2)  # This will not be added again since 2 is a duplicate\n",
        "print(\"After adding elements:\", my_set)\n"
      ],
      "metadata": {
        "colab": {
          "base_uri": "https://localhost:8080/"
        },
        "id": "HUa_Dm7YI_TB",
        "outputId": "cd87d4dc-670c-450d-8854-d60d9d9f8ee8"
      },
      "execution_count": null,
      "outputs": [
        {
          "output_type": "stream",
          "name": "stdout",
          "text": [
            "After adding elements: {1, 2, 3, 4, 5, 6}\n"
          ]
        }
      ]
    },
    {
      "cell_type": "markdown",
      "source": [
        "3. Set Operations"
      ],
      "metadata": {
        "id": "ypYSlfjIJxLC"
      }
    },
    {
      "cell_type": "code",
      "source": [
        "# Set operations\n",
        "set_a = {1, 2, 3, 4}\n",
        "set_b = {3, 4, 5, 6}\n",
        "\n",
        "# Union\n",
        "union_set = set_a | set_b\n",
        "print(\"Union:\", union_set)\n",
        "\n",
        "# Intersection\n",
        "intersection_set = set_a & set_b\n",
        "print(\"Intersection:\", intersection_set)\n",
        "\n",
        "# Difference\n",
        "difference_set = set_a - set_b\n",
        "print(\"Difference (A - B):\", difference_set)  #\n",
        "\n",
        "# Symmetric Difference\n",
        "symmetric_difference_set = set_a ^ set_b\n",
        "print(\"Symmetric Difference:\", symmetric_difference_set)\n"
      ],
      "metadata": {
        "colab": {
          "base_uri": "https://localhost:8080/"
        },
        "id": "WvLc4q4MJyqB",
        "outputId": "b96be5f0-46b0-4fb4-ca34-6168c603821d"
      },
      "execution_count": null,
      "outputs": [
        {
          "output_type": "stream",
          "name": "stdout",
          "text": [
            "Union: {1, 2, 3, 4, 5, 6}\n",
            "Intersection: {3, 4}\n",
            "Difference (A - B): {1, 2}\n",
            "Symmetric Difference: {1, 2, 5, 6}\n"
          ]
        }
      ]
    },
    {
      "cell_type": "markdown",
      "source": [
        "4. Membership Test"
      ],
      "metadata": {
        "id": "nXFaaJZhJ-dS"
      }
    },
    {
      "cell_type": "code",
      "source": [
        "# Membership test\n",
        "print(1 in my_set)\n",
        "print(7 in my_set)\n"
      ],
      "metadata": {
        "colab": {
          "base_uri": "https://localhost:8080/"
        },
        "id": "jQ3nVrQJKCGz",
        "outputId": "f5721109-3153-46f9-c501-7147f7298008"
      },
      "execution_count": null,
      "outputs": [
        {
          "output_type": "stream",
          "name": "stdout",
          "text": [
            "True\n",
            "False\n"
          ]
        }
      ]
    },
    {
      "cell_type": "markdown",
      "source": [
        "6. Discuss the cases of tuples & sets in python programming\n",
        "\n",
        "Tuples and sets in Python serve different purposes and have unique characteristics that make them suitable for various programming scenarios\n",
        "\n",
        "Tuples Characteristics:\n",
        "Immutable: Once created, the elements of a tuple cannot be changed.\n",
        "Ordered: Tuples maintain the order of elements, and each element can be accessed via its index.\n",
        "Allow Duplicates: Tuples can contain duplicate values.\n",
        "Use Cases for Tuples:\n",
        "Data Integrity: Use tuples when you want to ensure that a collection of items remains unchanged throughout the program. For example, representing geographic coordinates (latitude, longitude) can benefit from the immutability of tuples."
      ],
      "metadata": {
        "id": "FnY4AuCrKUe4"
      }
    },
    {
      "cell_type": "markdown",
      "source": [
        "1. Data Integrity: Use tuples when you want to ensure that a collection of items remains unchanged throughout the program. For example, representing geographic coordinates (latitude, longitude) can benefit from the immutability of tuples."
      ],
      "metadata": {
        "id": "ed_0z5yYKj9z"
      }
    },
    {
      "cell_type": "code",
      "source": [
        "coordinates = (40.7128, -74.0060)\n"
      ],
      "metadata": {
        "id": "zIeNSXGbKexD"
      },
      "execution_count": null,
      "outputs": []
    },
    {
      "cell_type": "markdown",
      "source": [
        "2. Return Multiple Values: Tuples are often used to return multiple values from a function."
      ],
      "metadata": {
        "id": "JLntnlKTKohC"
      }
    },
    {
      "cell_type": "code",
      "source": [
        "def get_user_info():\n",
        "    return (\"Alice\", 25)\n",
        "\n",
        "user_info = get_user_info()\n",
        "print(user_info)\n"
      ],
      "metadata": {
        "colab": {
          "base_uri": "https://localhost:8080/"
        },
        "id": "628OgxCcKrS2",
        "outputId": "91123754-8b2a-49b7-bb20-b89e19545b53"
      },
      "execution_count": null,
      "outputs": [
        {
          "output_type": "stream",
          "name": "stdout",
          "text": [
            "('Alice', 25)\n"
          ]
        }
      ]
    },
    {
      "cell_type": "markdown",
      "source": [
        "3.Packing and Unpacking: Tuples can be easily unpacked, allowing for cleaner code when assigning values to multiple variables."
      ],
      "metadata": {
        "id": "97hqrBjOKu9L"
      }
    },
    {
      "cell_type": "code",
      "source": [
        "person = (\"Bob\", 30)\n",
        "name, age = person\n"
      ],
      "metadata": {
        "id": "akZL7AwfKwWM"
      },
      "execution_count": null,
      "outputs": []
    },
    {
      "cell_type": "markdown",
      "source": [
        "4. Use as Dictionary Keys: Since tuples are immutable, they can be used as keys in dictionaries, unlike lists."
      ],
      "metadata": {
        "id": "xtS18xVdK0yz"
      }
    },
    {
      "cell_type": "code",
      "source": [
        "location_data = {(40.7128, -74.0060): \"New York\"}\n"
      ],
      "metadata": {
        "id": "VxazscQoK4WG"
      },
      "execution_count": null,
      "outputs": []
    },
    {
      "cell_type": "markdown",
      "source": [
        "Sets Characteristics:\n",
        "Mutable: You can add or remove elements from a set after it is created.\n",
        "Unordered: The elements in a set do not have a defined order.\n",
        "Unique Elements: Sets automatically remove duplicate values."
      ],
      "metadata": {
        "id": "o4P7g0t7K8Js"
      }
    },
    {
      "cell_type": "markdown",
      "source": [
        "1.Use Cases for Sets:\n",
        "Removing Duplicates: Sets are ideal for eliminating duplicate entries from a list."
      ],
      "metadata": {
        "id": "ArScti9rK_Bl"
      }
    },
    {
      "cell_type": "code",
      "source": [
        "data = [1, 2, 2, 3, 4, 4, 5]\n",
        "unique_data = set(data)\n",
        "print(unique_data)\n"
      ],
      "metadata": {
        "colab": {
          "base_uri": "https://localhost:8080/"
        },
        "id": "feq0tXTzLAnm",
        "outputId": "719acd6c-154d-44a1-845e-2f2eac472523"
      },
      "execution_count": null,
      "outputs": [
        {
          "output_type": "stream",
          "name": "stdout",
          "text": [
            "{1, 2, 3, 4, 5}\n"
          ]
        }
      ]
    },
    {
      "cell_type": "markdown",
      "source": [
        "2. Membership Testing: Sets provide fast membership testing. If you need to check for the existence of an item frequently, sets are a good choice."
      ],
      "metadata": {
        "id": "7cEdeXWWLEG8"
      }
    },
    {
      "cell_type": "code",
      "source": [
        "numbers = {1, 2, 3, 4, 5}\n",
        "print(3 in numbers)\n"
      ],
      "metadata": {
        "colab": {
          "base_uri": "https://localhost:8080/"
        },
        "id": "naJmyvcTLFsE",
        "outputId": "9c1e5802-028e-44a4-f941-b5164839d139"
      },
      "execution_count": null,
      "outputs": [
        {
          "output_type": "stream",
          "name": "stdout",
          "text": [
            "True\n"
          ]
        }
      ]
    },
    {
      "cell_type": "markdown",
      "source": [
        "3.Mathematical Set Operations: Sets support various mathematical operations like union, intersection, and difference, making them useful in scenarios involving group analysis."
      ],
      "metadata": {
        "id": "WfhzuTOhLJQl"
      }
    },
    {
      "cell_type": "code",
      "source": [
        "set_a = {1, 2, 3}\n",
        "set_b = {2, 3, 4}\n",
        "intersection = set_a & set_b"
      ],
      "metadata": {
        "id": "XL2SrT2ELKrE"
      },
      "execution_count": null,
      "outputs": []
    },
    {
      "cell_type": "markdown",
      "source": [
        "4.Dynamic Data Management: Sets can be useful for managing collections of items that may change over time, such as active users in a system."
      ],
      "metadata": {
        "id": "EVVoEVeGLTE1"
      }
    },
    {
      "cell_type": "code",
      "source": [
        "active_users = set()\n",
        "active_users.add(\"user1\")\n",
        "active_users.add(\"user2\")\n"
      ],
      "metadata": {
        "id": "xAISFqP5LUvl"
      },
      "execution_count": null,
      "outputs": []
    },
    {
      "cell_type": "markdown",
      "source": [
        "Tuples are best for fixed collections of items where immutability is desired, such as data integrity, returning multiple values, and using as dictionary keys.\n",
        "Sets are ideal for situations where uniqueness is important, such as removing duplicates, performing membership tests, and mathematical set operations."
      ],
      "metadata": {
        "id": "inoBMTfuLYr_"
      }
    },
    {
      "cell_type": "markdown",
      "source": [
        "7. Describe how to add, modify, delete items in a dictionary with examples"
      ],
      "metadata": {
        "id": "YCc0mqWbLoQV"
      }
    },
    {
      "cell_type": "markdown",
      "source": [
        "1. Adding Items"
      ],
      "metadata": {
        "id": "53ox24o6Lw0V"
      }
    },
    {
      "cell_type": "code",
      "source": [
        "# Creating a dictionary\n",
        "my_dict = {'name': 'Alice', 'age': 25}\n",
        "\n",
        "# Adding a new item\n",
        "my_dict['city'] = 'New York'\n",
        "print(\"After adding city:\", my_dict)\n"
      ],
      "metadata": {
        "colab": {
          "base_uri": "https://localhost:8080/"
        },
        "id": "pby3KFf-L10u",
        "outputId": "71318a7b-afe2-4c69-c328-10f28a785a7c"
      },
      "execution_count": null,
      "outputs": [
        {
          "output_type": "stream",
          "name": "stdout",
          "text": [
            "After adding city: {'name': 'Alice', 'age': 25, 'city': 'New York'}\n"
          ]
        }
      ]
    },
    {
      "cell_type": "markdown",
      "source": [
        "2. Modifying Items"
      ],
      "metadata": {
        "id": "cJC-pAZTL6qW"
      }
    },
    {
      "cell_type": "code",
      "source": [
        "# Modifying an existing item\n",
        "my_dict['age'] = 26\n",
        "print(\"After modifying age:\", my_dict)\n"
      ],
      "metadata": {
        "colab": {
          "base_uri": "https://localhost:8080/"
        },
        "id": "fyE4YURrL7sf",
        "outputId": "58ff1e62-40b2-401b-8442-f5b71470186c"
      },
      "execution_count": null,
      "outputs": [
        {
          "output_type": "stream",
          "name": "stdout",
          "text": [
            "After modifying age: {'name': 'Alice', 'age': 26, 'city': 'New York'}\n"
          ]
        }
      ]
    },
    {
      "cell_type": "markdown",
      "source": [
        "3. Deleting Items"
      ],
      "metadata": {
        "id": "DHOGg7W5MATN"
      }
    },
    {
      "cell_type": "code",
      "source": [
        "# Deleting an item using del\n",
        "del my_dict['city']\n",
        "print(\"After deleting city:\", my_dict)\n"
      ],
      "metadata": {
        "colab": {
          "base_uri": "https://localhost:8080/"
        },
        "id": "wdEAJzulMA0O",
        "outputId": "46efb297-cd57-4cb4-9807-000ef04a1dcd"
      },
      "execution_count": null,
      "outputs": [
        {
          "output_type": "stream",
          "name": "stdout",
          "text": [
            "After deleting city: {'name': 'Alice', 'age': 26}\n"
          ]
        }
      ]
    },
    {
      "cell_type": "markdown",
      "source": [
        "8. Discuss the importance of dictionary keys being immutable and provide example\n",
        "\n",
        "In Python, dictionary keys must be immutable, meaning they cannot be changed after they are created. This requirement is crucial for several reasons:\n",
        "\n",
        "Importance of Immutable Keys\n",
        "Hashing:\n",
        "Dictionaries in Python are implemented using hash tables. Each key is hashed to create a unique identifier that allows for quick access to its associated value. If a key were mutable, its hash value could change, leading to inconsistencies and making it impossible to retrieve the value associated with that key.\n",
        "Consistency:\n",
        "Using immutable keys ensures that the mapping between keys and values remains stable throughout the life of the dictionary. This consistency is essential for maintaining data integrity.\n",
        "Performance:\n",
        "The use of immutable objects allows for more efficient memory usage and performance. Since the state of keys cannot change, the dictionary can operate more quickly when accessing and storing items."
      ],
      "metadata": {
        "id": "R63gAsghMWK-"
      }
    },
    {
      "cell_type": "markdown",
      "source": [
        "Example of Immutable Keys\n",
        "You can use immutable types such as strings, integers, and tuples as dictionary keys."
      ],
      "metadata": {
        "id": "Kth7S9h1Mv76"
      }
    },
    {
      "cell_type": "code",
      "source": [
        "# Using a string as a key\n",
        "my_dict = {'name': 'Alice', 'age': 25}\n",
        "print(my_dict['name'])\n",
        "\n",
        "# Using a tuple as a key\n",
        "my_tuple_key_dict = {(1, 2): 'Point A', (3, 4): 'Point B'}\n",
        "print(my_tuple_key_dict[(1, 2)])\n"
      ],
      "metadata": {
        "colab": {
          "base_uri": "https://localhost:8080/"
        },
        "id": "iGrzKSL8MySP",
        "outputId": "fc53a011-2127-4242-efdc-5259312540ae"
      },
      "execution_count": null,
      "outputs": [
        {
          "output_type": "stream",
          "name": "stdout",
          "text": [
            "Alice\n",
            "Point A\n"
          ]
        }
      ]
    },
    {
      "cell_type": "markdown",
      "source": [
        "Example of Mutable Keys (Invalid)\n",
        "Attempting to use a mutable type (like a list or a dictionary) as a key will raise a TypeError"
      ],
      "metadata": {
        "id": "ps8vwoTWM4ln"
      }
    },
    {
      "cell_type": "code",
      "source": [
        "# Using a list as a key (will raise an error)\n",
        "try:\n",
        "    invalid_dict = {[1, 2]: 'List as key'}\n",
        "except TypeError as e:\n",
        "    print(\"Error:\", e)\n"
      ],
      "metadata": {
        "colab": {
          "base_uri": "https://localhost:8080/"
        },
        "id": "aoCvEsvdM5eO",
        "outputId": "43e44c11-4806-494a-ca2f-ba814b281c37"
      },
      "execution_count": null,
      "outputs": [
        {
          "output_type": "stream",
          "name": "stdout",
          "text": [
            "Error: unhashable type: 'list'\n"
          ]
        }
      ]
    },
    {
      "cell_type": "markdown",
      "source": [
        "The immutability of dictionary keys is crucial for maintaining the integrity, consistency, and performance of dictionaries in Python. Only immutable types like strings, numbers, and tuples can be used as keys, ensuring that the hashing mechanism functions correctly and that the relationship between keys and values remains stable. This design decision is fundamental to the efficient and reliable operation of dictionaries as key-value stores in Python."
      ],
      "metadata": {
        "id": "4Y7JzFflNCSv"
      }
    },
    {
      "cell_type": "markdown",
      "source": [],
      "metadata": {
        "id": "okvYte9rMXz-"
      }
    }
  ]
}